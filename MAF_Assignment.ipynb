{
 "cells": [
  {
   "cell_type": "code",
   "execution_count": 1,
   "id": "930466d0",
   "metadata": {},
   "outputs": [],
   "source": [
    "import pandas as pd\n",
    "import numpy as np\n",
    "from matplotlib import pyplot as plt"
   ]
  },
  {
   "cell_type": "code",
   "execution_count": 2,
   "id": "1623f432",
   "metadata": {},
   "outputs": [
    {
     "data": {
      "text/html": [
       "<div>\n",
       "<style scoped>\n",
       "    .dataframe tbody tr th:only-of-type {\n",
       "        vertical-align: middle;\n",
       "    }\n",
       "\n",
       "    .dataframe tbody tr th {\n",
       "        vertical-align: top;\n",
       "    }\n",
       "\n",
       "    .dataframe thead th {\n",
       "        text-align: right;\n",
       "    }\n",
       "</style>\n",
       "<table border=\"1\" class=\"dataframe\">\n",
       "  <thead>\n",
       "    <tr style=\"text-align: right;\">\n",
       "      <th></th>\n",
       "      <th>City</th>\n",
       "      <th>Car type</th>\n",
       "      <th>Active captains</th>\n",
       "    </tr>\n",
       "  </thead>\n",
       "  <tbody>\n",
       "    <tr>\n",
       "      <th>0</th>\n",
       "      <td>Dubai</td>\n",
       "      <td>Economy</td>\n",
       "      <td>20</td>\n",
       "    </tr>\n",
       "    <tr>\n",
       "      <th>1</th>\n",
       "      <td>Dubai</td>\n",
       "      <td>Business</td>\n",
       "      <td>30</td>\n",
       "    </tr>\n",
       "    <tr>\n",
       "      <th>2</th>\n",
       "      <td>Dubai</td>\n",
       "      <td>First</td>\n",
       "      <td>1</td>\n",
       "    </tr>\n",
       "    <tr>\n",
       "      <th>3</th>\n",
       "      <td>Jeddah</td>\n",
       "      <td>Economy</td>\n",
       "      <td>40</td>\n",
       "    </tr>\n",
       "    <tr>\n",
       "      <th>4</th>\n",
       "      <td>Jeddah</td>\n",
       "      <td>Business</td>\n",
       "      <td>5</td>\n",
       "    </tr>\n",
       "  </tbody>\n",
       "</table>\n",
       "</div>"
      ],
      "text/plain": [
       "     City  Car type  Active captains\n",
       "0   Dubai   Economy               20\n",
       "1   Dubai  Business               30\n",
       "2   Dubai     First                1\n",
       "3  Jeddah   Economy               40\n",
       "4  Jeddah  Business                5"
      ]
     },
     "execution_count": 2,
     "metadata": {},
     "output_type": "execute_result"
    }
   ],
   "source": [
    "Trip_Data = pd.read_csv(\"Trip_data.csv\")\n",
    "Pricing = pd.read_csv(\"Pricing.csv\")\n",
    "Drivers = pd.read_csv(\"Drivers.csv\")\n",
    "Trip_Data.head()\n",
    "Drivers.head() "
   ]
  },
  {
   "cell_type": "code",
   "execution_count": 4,
   "id": "a4a4e50e",
   "metadata": {},
   "outputs": [
    {
     "data": {
      "text/plain": [
       "Trip ID                                  int64\n",
       "Trip date and time                      object\n",
       "City                                    object\n",
       "Car type                                object\n",
       "Available cars at time of booking        int64\n",
       "Trip duration (mins)                     int64\n",
       "Distance travelled (km)                float64\n",
       "Wait time at pickup (mins)               int64\n",
       "Trip price (in local currency)         float64\n",
       "driver earnings (in local currency)    float64\n",
       "Payment method                          object\n",
       "dtype: object"
      ]
     },
     "execution_count": 4,
     "metadata": {},
     "output_type": "execute_result"
    }
   ],
   "source": [
    "Trip_Data.dtypes"
   ]
  },
  {
   "cell_type": "code",
   "execution_count": 5,
   "id": "f0b658da",
   "metadata": {},
   "outputs": [],
   "source": [
    "Trip_Data[\"Trip_datetime\"]=pd.to_datetime(Trip_Data[\"Trip date and time\"], format = \"%d/%m/%Y %H:%M\")"
   ]
  },
  {
   "cell_type": "code",
   "execution_count": 20,
   "id": "5ffa842b",
   "metadata": {},
   "outputs": [
    {
     "data": {
      "text/plain": [
       "Timestamp('2022-09-15 03:56:00')"
      ]
     },
     "execution_count": 20,
     "metadata": {},
     "output_type": "execute_result"
    }
   ],
   "source": [
    "Trip_Data.Trip_date.max()"
   ]
  },
  {
   "cell_type": "code",
   "execution_count": 6,
   "id": "22736fab",
   "metadata": {},
   "outputs": [],
   "source": [
    "Trip_Data[\"Trip_Day\"]=Trip_Data.Trip_datetime.dt.date"
   ]
  },
  {
   "cell_type": "code",
   "execution_count": 7,
   "id": "a4b08e8b",
   "metadata": {},
   "outputs": [],
   "source": [
    "Trip_Data[\"Trip_Hour\"]=Trip_Data.Trip_datetime.dt.hour"
   ]
  },
  {
   "cell_type": "code",
   "execution_count": 8,
   "id": "b0abc1c4",
   "metadata": {},
   "outputs": [],
   "source": [
    "Trip_Data[\"Trip_DOW\"]=Trip_Data.Trip_datetime.dt.day_name()"
   ]
  },
  {
   "cell_type": "code",
   "execution_count": 9,
   "id": "3551e14e",
   "metadata": {},
   "outputs": [],
   "source": [
    "Trip_Data[\"GoCarzz_Earning\"] = Trip_Data[\"Trip price (in local currency)\"]-Trip_Data[\"driver earnings (in local currency)\"]"
   ]
  },
  {
   "cell_type": "code",
   "execution_count": 11,
   "id": "f893663e",
   "metadata": {},
   "outputs": [],
   "source": [
    "Trip_Data['Trip_Count']=1"
   ]
  },
  {
   "cell_type": "code",
   "execution_count": 12,
   "id": "e4d1c097",
   "metadata": {},
   "outputs": [
    {
     "data": {
      "text/html": [
       "<div>\n",
       "<style scoped>\n",
       "    .dataframe tbody tr th:only-of-type {\n",
       "        vertical-align: middle;\n",
       "    }\n",
       "\n",
       "    .dataframe tbody tr th {\n",
       "        vertical-align: top;\n",
       "    }\n",
       "\n",
       "    .dataframe thead th {\n",
       "        text-align: right;\n",
       "    }\n",
       "</style>\n",
       "<table border=\"1\" class=\"dataframe\">\n",
       "  <thead>\n",
       "    <tr style=\"text-align: right;\">\n",
       "      <th></th>\n",
       "      <th>Trip ID</th>\n",
       "      <th>Trip date and time</th>\n",
       "      <th>City</th>\n",
       "      <th>Car type</th>\n",
       "      <th>Available cars at time of booking</th>\n",
       "      <th>Trip duration (mins)</th>\n",
       "      <th>Distance travelled (km)</th>\n",
       "      <th>Wait time at pickup (mins)</th>\n",
       "      <th>Trip price (in local currency)</th>\n",
       "      <th>driver earnings (in local currency)</th>\n",
       "      <th>Payment method</th>\n",
       "      <th>Trip_datetime</th>\n",
       "      <th>Trip_Day</th>\n",
       "      <th>Trip_Hour</th>\n",
       "      <th>Trip_DOW</th>\n",
       "      <th>GoCarzz_Earning</th>\n",
       "      <th>Trip_Count</th>\n",
       "    </tr>\n",
       "  </thead>\n",
       "  <tbody>\n",
       "    <tr>\n",
       "      <th>0</th>\n",
       "      <td>1</td>\n",
       "      <td>01/09/2022 4:12</td>\n",
       "      <td>Dubai</td>\n",
       "      <td>Economy</td>\n",
       "      <td>1</td>\n",
       "      <td>7</td>\n",
       "      <td>4.25</td>\n",
       "      <td>16</td>\n",
       "      <td>34.56</td>\n",
       "      <td>31.96</td>\n",
       "      <td>GoCarzz credit</td>\n",
       "      <td>2022-09-01 04:12:00</td>\n",
       "      <td>2022-09-01</td>\n",
       "      <td>4</td>\n",
       "      <td>Thursday</td>\n",
       "      <td>2.60</td>\n",
       "      <td>1</td>\n",
       "    </tr>\n",
       "    <tr>\n",
       "      <th>1</th>\n",
       "      <td>2</td>\n",
       "      <td>01/09/2022 4:58</td>\n",
       "      <td>Jeddah</td>\n",
       "      <td>Economy</td>\n",
       "      <td>1</td>\n",
       "      <td>12</td>\n",
       "      <td>8.66</td>\n",
       "      <td>9</td>\n",
       "      <td>32.72</td>\n",
       "      <td>28.63</td>\n",
       "      <td>Credit card</td>\n",
       "      <td>2022-09-01 04:58:00</td>\n",
       "      <td>2022-09-01</td>\n",
       "      <td>4</td>\n",
       "      <td>Thursday</td>\n",
       "      <td>4.09</td>\n",
       "      <td>1</td>\n",
       "    </tr>\n",
       "    <tr>\n",
       "      <th>2</th>\n",
       "      <td>3</td>\n",
       "      <td>01/09/2022 5:03</td>\n",
       "      <td>Dubai</td>\n",
       "      <td>Economy</td>\n",
       "      <td>4</td>\n",
       "      <td>11</td>\n",
       "      <td>5.64</td>\n",
       "      <td>0</td>\n",
       "      <td>21.69</td>\n",
       "      <td>20.06</td>\n",
       "      <td>Cash</td>\n",
       "      <td>2022-09-01 05:03:00</td>\n",
       "      <td>2022-09-01</td>\n",
       "      <td>5</td>\n",
       "      <td>Thursday</td>\n",
       "      <td>1.63</td>\n",
       "      <td>1</td>\n",
       "    </tr>\n",
       "    <tr>\n",
       "      <th>3</th>\n",
       "      <td>4</td>\n",
       "      <td>01/09/2022 5:08</td>\n",
       "      <td>Dubai</td>\n",
       "      <td>Business</td>\n",
       "      <td>4</td>\n",
       "      <td>26</td>\n",
       "      <td>28.94</td>\n",
       "      <td>0</td>\n",
       "      <td>82.35</td>\n",
       "      <td>75.76</td>\n",
       "      <td>Credit card</td>\n",
       "      <td>2022-09-01 05:08:00</td>\n",
       "      <td>2022-09-01</td>\n",
       "      <td>5</td>\n",
       "      <td>Thursday</td>\n",
       "      <td>6.59</td>\n",
       "      <td>1</td>\n",
       "    </tr>\n",
       "    <tr>\n",
       "      <th>4</th>\n",
       "      <td>5</td>\n",
       "      <td>01/09/2022 5:10</td>\n",
       "      <td>Dubai</td>\n",
       "      <td>Business</td>\n",
       "      <td>2</td>\n",
       "      <td>10</td>\n",
       "      <td>12.46</td>\n",
       "      <td>10</td>\n",
       "      <td>56.15</td>\n",
       "      <td>51.65</td>\n",
       "      <td>Credit card</td>\n",
       "      <td>2022-09-01 05:10:00</td>\n",
       "      <td>2022-09-01</td>\n",
       "      <td>5</td>\n",
       "      <td>Thursday</td>\n",
       "      <td>4.50</td>\n",
       "      <td>1</td>\n",
       "    </tr>\n",
       "  </tbody>\n",
       "</table>\n",
       "</div>"
      ],
      "text/plain": [
       "   Trip ID Trip date and time    City  Car type  \\\n",
       "0        1    01/09/2022 4:12   Dubai   Economy   \n",
       "1        2    01/09/2022 4:58  Jeddah   Economy   \n",
       "2        3    01/09/2022 5:03   Dubai   Economy   \n",
       "3        4    01/09/2022 5:08   Dubai  Business   \n",
       "4        5    01/09/2022 5:10   Dubai  Business   \n",
       "\n",
       "   Available cars at time of booking  Trip duration (mins)  \\\n",
       "0                                  1                     7   \n",
       "1                                  1                    12   \n",
       "2                                  4                    11   \n",
       "3                                  4                    26   \n",
       "4                                  2                    10   \n",
       "\n",
       "   Distance travelled (km)  Wait time at pickup (mins)  \\\n",
       "0                     4.25                          16   \n",
       "1                     8.66                           9   \n",
       "2                     5.64                           0   \n",
       "3                    28.94                           0   \n",
       "4                    12.46                          10   \n",
       "\n",
       "   Trip price (in local currency)  driver earnings (in local currency)  \\\n",
       "0                           34.56                                31.96   \n",
       "1                           32.72                                28.63   \n",
       "2                           21.69                                20.06   \n",
       "3                           82.35                                75.76   \n",
       "4                           56.15                                51.65   \n",
       "\n",
       "   Payment method       Trip_datetime    Trip_Day  Trip_Hour  Trip_DOW  \\\n",
       "0  GoCarzz credit 2022-09-01 04:12:00  2022-09-01          4  Thursday   \n",
       "1     Credit card 2022-09-01 04:58:00  2022-09-01          4  Thursday   \n",
       "2            Cash 2022-09-01 05:03:00  2022-09-01          5  Thursday   \n",
       "3     Credit card 2022-09-01 05:08:00  2022-09-01          5  Thursday   \n",
       "4     Credit card 2022-09-01 05:10:00  2022-09-01          5  Thursday   \n",
       "\n",
       "   GoCarzz_Earning  Trip_Count  \n",
       "0             2.60           1  \n",
       "1             4.09           1  \n",
       "2             1.63           1  \n",
       "3             6.59           1  \n",
       "4             4.50           1  "
      ]
     },
     "execution_count": 12,
     "metadata": {},
     "output_type": "execute_result"
    }
   ],
   "source": [
    "Trip_Data.head()"
   ]
  },
  {
   "cell_type": "markdown",
   "id": "273220f4",
   "metadata": {},
   "source": [
    "### 1. What % of trips in Jeddah are SUV?"
   ]
  },
  {
   "cell_type": "code",
   "execution_count": 7,
   "id": "a06106ee",
   "metadata": {},
   "outputs": [
    {
     "data": {
      "text/plain": [
       "Economy     92.855287\n",
       "Business     5.326059\n",
       "SUV          1.766693\n",
       "First        0.051962\n",
       "Name: Car type, dtype: float64"
      ]
     },
     "execution_count": 7,
     "metadata": {},
     "output_type": "execute_result"
    }
   ],
   "source": [
    "Trip_Data[Trip_Data.City==\"Jeddah\"][\"Car type\"].value_counts(normalize=True)*100"
   ]
  },
  {
   "cell_type": "markdown",
   "id": "897948cd",
   "metadata": {},
   "source": [
    "#### 2.\tWhat is the highest number of trips in any given day?"
   ]
  },
  {
   "cell_type": "code",
   "execution_count": 25,
   "id": "72880cb0",
   "metadata": {},
   "outputs": [
    {
     "data": {
      "text/plain": [
       "Trip_Day\n",
       "2022-09-08    963\n",
       "2022-09-07    751\n",
       "2022-09-05    713\n",
       "2022-09-14    701\n",
       "2022-09-13    698\n",
       "2022-09-06    696\n",
       "2022-09-12    663\n",
       "2022-09-11    653\n",
       "2022-09-04    644\n",
       "2022-09-01    625\n",
       "2022-09-09    551\n",
       "2022-09-10    507\n",
       "2022-09-02    503\n",
       "2022-09-03    440\n",
       "2022-09-15     44\n",
       "Name: Trip ID, dtype: int64"
      ]
     },
     "execution_count": 25,
     "metadata": {},
     "output_type": "execute_result"
    }
   ],
   "source": [
    "Trip_Data.groupby(\"Trip_Day\")[\"Trip ID\"].count().sort_values(ascending =False)"
   ]
  },
  {
   "cell_type": "markdown",
   "id": "a106e6e0",
   "metadata": {},
   "source": [
    "#### 3. What are the payment preferences for Economy and Business users in Dammam?"
   ]
  },
  {
   "cell_type": "code",
   "execution_count": 14,
   "id": "885ea349",
   "metadata": {},
   "outputs": [
    {
     "data": {
      "text/plain": [
       "Cash              1208\n",
       "Credit card        221\n",
       "GoCarzz credit       9\n",
       "Name: Payment method, dtype: int64"
      ]
     },
     "execution_count": 14,
     "metadata": {},
     "output_type": "execute_result"
    }
   ],
   "source": [
    "Trip_Data[(Trip_Data.City==\"Dammam\")&(Trip_Data[\"Car type\"].isin([\"Economy\"]))][\"Payment method\"].value_counts()"
   ]
  },
  {
   "cell_type": "code",
   "execution_count": 15,
   "id": "739ede28",
   "metadata": {},
   "outputs": [
    {
     "data": {
      "text/plain": [
       "Cash              37\n",
       "Credit card       19\n",
       "GoCarzz credit    10\n",
       "Name: Payment method, dtype: int64"
      ]
     },
     "execution_count": 15,
     "metadata": {},
     "output_type": "execute_result"
    }
   ],
   "source": [
    "Trip_Data[(Trip_Data.City==\"Dammam\")&(Trip_Data[\"Car type\"].isin([\"Business\"]))][\"Payment method\"].value_counts()"
   ]
  },
  {
   "cell_type": "markdown",
   "id": "751f5b0d",
   "metadata": {},
   "source": [
    "### 4.\tFor each city, which car type has the longest trips on average?"
   ]
  },
  {
   "cell_type": "code",
   "execution_count": 17,
   "id": "15a8c376",
   "metadata": {},
   "outputs": [
    {
     "data": {
      "text/html": [
       "<div>\n",
       "<style scoped>\n",
       "    .dataframe tbody tr th:only-of-type {\n",
       "        vertical-align: middle;\n",
       "    }\n",
       "\n",
       "    .dataframe tbody tr th {\n",
       "        vertical-align: top;\n",
       "    }\n",
       "\n",
       "    .dataframe thead th {\n",
       "        text-align: right;\n",
       "    }\n",
       "</style>\n",
       "<table border=\"1\" class=\"dataframe\">\n",
       "  <thead>\n",
       "    <tr style=\"text-align: right;\">\n",
       "      <th></th>\n",
       "      <th>City</th>\n",
       "      <th>Car type</th>\n",
       "      <th>Trip duration (mins)</th>\n",
       "    </tr>\n",
       "  </thead>\n",
       "  <tbody>\n",
       "    <tr>\n",
       "      <th>0</th>\n",
       "      <td>Dammam</td>\n",
       "      <td>Business</td>\n",
       "      <td>42.621212</td>\n",
       "    </tr>\n",
       "    <tr>\n",
       "      <th>1</th>\n",
       "      <td>Dammam</td>\n",
       "      <td>Economy</td>\n",
       "      <td>21.237830</td>\n",
       "    </tr>\n",
       "    <tr>\n",
       "      <th>2</th>\n",
       "      <td>Dubai</td>\n",
       "      <td>Business</td>\n",
       "      <td>25.220942</td>\n",
       "    </tr>\n",
       "    <tr>\n",
       "      <th>3</th>\n",
       "      <td>Dubai</td>\n",
       "      <td>Economy</td>\n",
       "      <td>23.216981</td>\n",
       "    </tr>\n",
       "    <tr>\n",
       "      <th>4</th>\n",
       "      <td>Dubai</td>\n",
       "      <td>First</td>\n",
       "      <td>27.000000</td>\n",
       "    </tr>\n",
       "    <tr>\n",
       "      <th>5</th>\n",
       "      <td>Jeddah</td>\n",
       "      <td>Business</td>\n",
       "      <td>32.512195</td>\n",
       "    </tr>\n",
       "    <tr>\n",
       "      <th>6</th>\n",
       "      <td>Jeddah</td>\n",
       "      <td>Economy</td>\n",
       "      <td>23.127868</td>\n",
       "    </tr>\n",
       "    <tr>\n",
       "      <th>7</th>\n",
       "      <td>Jeddah</td>\n",
       "      <td>First</td>\n",
       "      <td>39.000000</td>\n",
       "    </tr>\n",
       "    <tr>\n",
       "      <th>8</th>\n",
       "      <td>Jeddah</td>\n",
       "      <td>SUV</td>\n",
       "      <td>33.102941</td>\n",
       "    </tr>\n",
       "  </tbody>\n",
       "</table>\n",
       "</div>"
      ],
      "text/plain": [
       "     City  Car type  Trip duration (mins)\n",
       "0  Dammam  Business             42.621212\n",
       "1  Dammam   Economy             21.237830\n",
       "2   Dubai  Business             25.220942\n",
       "3   Dubai   Economy             23.216981\n",
       "4   Dubai     First             27.000000\n",
       "5  Jeddah  Business             32.512195\n",
       "6  Jeddah   Economy             23.127868\n",
       "7  Jeddah     First             39.000000\n",
       "8  Jeddah       SUV             33.102941"
      ]
     },
     "execution_count": 17,
     "metadata": {},
     "output_type": "execute_result"
    }
   ],
   "source": [
    "Trip_Data.groupby([\"City\",\"Car type\"])[\"Trip duration (mins)\"].mean().reset_index()"
   ]
  },
  {
   "cell_type": "markdown",
   "id": "104e3c2c",
   "metadata": {},
   "source": [
    "### 5.\tWhat day of week is the least active?"
   ]
  },
  {
   "cell_type": "code",
   "execution_count": 19,
   "id": "432fab8b",
   "metadata": {},
   "outputs": [
    {
     "name": "stderr",
     "output_type": "stream",
     "text": [
      "C:\\Users\\junai\\anaconda3\\lib\\site-packages\\pandas\\core\\ops\\array_ops.py:73: FutureWarning: Comparison of Timestamp with datetime.date is deprecated in order to match the standard library behavior.  In a future version these will be considered non-comparable.Use 'ts == pd.Timestamp(date)' or 'ts.date() == date' instead.\n",
      "  result = libops.scalar_compare(x.ravel(), y, op)\n"
     ]
    },
    {
     "data": {
      "text/plain": [
       "<AxesSubplot:xlabel='Trip_DOW'>"
      ]
     },
     "execution_count": 19,
     "metadata": {},
     "output_type": "execute_result"
    },
    {
     "data": {
      "image/png": "[encoded data removed]",
      "text/plain": [
       "<Figure size 432x288 with 1 Axes>"
      ]
     },
     "metadata": {
      "needs_background": "light"
     },
     "output_type": "display_data"
    }
   ],
   "source": [
    "Trip_Data_Filterd =Trip_Data[Trip_Data.Trip_Day<pd.to_datetime('2022-09-15', format =\"%Y-%m-%d\")]\n",
    "Trip_Data_Filterd.groupby([\"Trip_Day\",\"Trip_DOW\"])[\"Trip_Count\"].sum().reset_index().groupby('Trip_DOW')['Trip_Count'].mean().sort_values(ascending =False).plot(kind='bar')"
   ]
  },
  {
   "cell_type": "markdown",
   "id": "a7ea36e6",
   "metadata": {},
   "source": [
    "### 6.\tWhat are the peak hours?"
   ]
  },
  {
   "cell_type": "code",
   "execution_count": 20,
   "id": "68b892bd",
   "metadata": {},
   "outputs": [
    {
     "data": {
      "text/plain": [
       "Text(0, 0.5, 'Avg_Trip_Count')"
      ]
     },
     "execution_count": 20,
     "metadata": {},
     "output_type": "execute_result"
    },
    {
     "data": {
      "image/png": "[encoded data removed]",
      "text/plain": [
       "<Figure size 432x288 with 1 Axes>"
      ]
     },
     "metadata": {
      "needs_background": "light"
     },
     "output_type": "display_data"
    }
   ],
   "source": [
    "Trip_Data.groupby([\"Trip_Day\",\"Trip_Hour\"])[\"Trip_Count\"].sum().reset_index().groupby('Trip_Hour')['Trip_Count'].mean().sort_values(ascending =False).plot(kind='bar')\n",
    "plt.ylabel('Avg_Trip_Count')"
   ]
  },
  {
   "cell_type": "markdown",
   "id": "aebe021e",
   "metadata": {},
   "source": [
    "### 7.\tIf you can add 5 drivers to any given hour, which hour would you choose?"
   ]
  },
  {
   "cell_type": "code",
   "execution_count": 21,
   "id": "bb6fad22",
   "metadata": {},
   "outputs": [
    {
     "data": {
      "text/plain": [
       "Text(0, 0.5, 'Available_Cars')"
      ]
     },
     "execution_count": 21,
     "metadata": {},
     "output_type": "execute_result"
    },
    {
     "data": {
      "image/png": "[encoded data removed]",
      "text/plain": [
       "<Figure size 432x288 with 1 Axes>"
      ]
     },
     "metadata": {
      "needs_background": "light"
     },
     "output_type": "display_data"
    }
   ],
   "source": [
    "Trip_Data.groupby([\"Trip_Hour\"])[\"Available cars at time of booking\"].mean().sort_values(ascending =False).plot(kind='bar')\n",
    "plt.ylabel('Available_Cars')"
   ]
  },
  {
   "cell_type": "code",
   "execution_count": 35,
   "id": "10653faa",
   "metadata": {},
   "outputs": [
    {
     "data": {
      "text/plain": [
       "<AxesSubplot:xlabel='Trip_Hour'>"
      ]
     },
     "execution_count": 35,
     "metadata": {},
     "output_type": "execute_result"
    },
    {
     "data": {
      "image/png": "[encoded data removed]",
      "text/plain": [
       "<Figure size 432x288 with 1 Axes>"
      ]
     },
     "metadata": {
      "needs_background": "light"
     },
     "output_type": "display_data"
    }
   ],
   "source": [
    "Trip_Data.groupby([\"Trip_Hour\"])[\"GoCarzz_Earning\"].mean().sort_values(ascending =False).plot(kind='bar')"
   ]
  },
  {
   "cell_type": "markdown",
   "id": "ceab3793",
   "metadata": {},
   "source": [
    "### 8.\tFor a Jeddah Economy driver, what is the expected change in his daily income if we give this driver a Business car instead?"
   ]
  },
  {
   "cell_type": "code",
   "execution_count": 23,
   "id": "28579deb",
   "metadata": {},
   "outputs": [
    {
     "data": {
      "text/html": [
       "<div>\n",
       "<style scoped>\n",
       "    .dataframe tbody tr th:only-of-type {\n",
       "        vertical-align: middle;\n",
       "    }\n",
       "\n",
       "    .dataframe tbody tr th {\n",
       "        vertical-align: top;\n",
       "    }\n",
       "\n",
       "    .dataframe thead th {\n",
       "        text-align: right;\n",
       "    }\n",
       "</style>\n",
       "<table border=\"1\" class=\"dataframe\">\n",
       "  <thead>\n",
       "    <tr style=\"text-align: right;\">\n",
       "      <th></th>\n",
       "      <th>City</th>\n",
       "      <th>Car type</th>\n",
       "      <th>driver_earnings</th>\n",
       "      <th>Trip_Count</th>\n",
       "    </tr>\n",
       "  </thead>\n",
       "  <tbody>\n",
       "    <tr>\n",
       "      <th>0</th>\n",
       "      <td>Dammam</td>\n",
       "      <td>Business</td>\n",
       "      <td>416.944286</td>\n",
       "      <td>4.714286</td>\n",
       "    </tr>\n",
       "    <tr>\n",
       "      <th>1</th>\n",
       "      <td>Dammam</td>\n",
       "      <td>Economy</td>\n",
       "      <td>2867.227143</td>\n",
       "      <td>102.142857</td>\n",
       "    </tr>\n",
       "    <tr>\n",
       "      <th>2</th>\n",
       "      <td>Dubai</td>\n",
       "      <td>Business</td>\n",
       "      <td>9261.940714</td>\n",
       "      <td>142.142857</td>\n",
       "    </tr>\n",
       "    <tr>\n",
       "      <th>3</th>\n",
       "      <td>Dubai</td>\n",
       "      <td>Economy</td>\n",
       "      <td>6321.341429</td>\n",
       "      <td>128.142857</td>\n",
       "    </tr>\n",
       "    <tr>\n",
       "      <th>4</th>\n",
       "      <td>Dubai</td>\n",
       "      <td>First</td>\n",
       "      <td>205.060000</td>\n",
       "      <td>1.000000</td>\n",
       "    </tr>\n",
       "    <tr>\n",
       "      <th>5</th>\n",
       "      <td>Jeddah</td>\n",
       "      <td>Business</td>\n",
       "      <td>860.277143</td>\n",
       "      <td>14.571429</td>\n",
       "    </tr>\n",
       "    <tr>\n",
       "      <th>6</th>\n",
       "      <td>Jeddah</td>\n",
       "      <td>Economy</td>\n",
       "      <td>7943.726429</td>\n",
       "      <td>253.785714</td>\n",
       "    </tr>\n",
       "    <tr>\n",
       "      <th>7</th>\n",
       "      <td>Jeddah</td>\n",
       "      <td>First</td>\n",
       "      <td>138.765000</td>\n",
       "      <td>1.000000</td>\n",
       "    </tr>\n",
       "    <tr>\n",
       "      <th>8</th>\n",
       "      <td>Jeddah</td>\n",
       "      <td>SUV</td>\n",
       "      <td>305.462308</td>\n",
       "      <td>5.230769</td>\n",
       "    </tr>\n",
       "  </tbody>\n",
       "</table>\n",
       "</div>"
      ],
      "text/plain": [
       "     City  Car type  driver_earnings  Trip_Count\n",
       "0  Dammam  Business       416.944286    4.714286\n",
       "1  Dammam   Economy      2867.227143  102.142857\n",
       "2   Dubai  Business      9261.940714  142.142857\n",
       "3   Dubai   Economy      6321.341429  128.142857\n",
       "4   Dubai     First       205.060000    1.000000\n",
       "5  Jeddah  Business       860.277143   14.571429\n",
       "6  Jeddah   Economy      7943.726429  253.785714\n",
       "7  Jeddah     First       138.765000    1.000000\n",
       "8  Jeddah       SUV       305.462308    5.230769"
      ]
     },
     "execution_count": 23,
     "metadata": {},
     "output_type": "execute_result"
    }
   ],
   "source": [
    "trip_by_day=Trip_Data_Filterd.groupby(['City','Car type','Trip_Day']).agg({'driver earnings (in local currency)':'sum','Trip ID':'count'}).reset_index()\n",
    "trip_by_day.rename(columns={'Trip ID':'Trip_Count', 'driver earnings (in local currency)':'driver_earnings'},inplace=True)\n",
    "trip_by_day\n",
    "trip_avg_daily = trip_by_day.groupby(['City','Car type']).agg({'driver_earnings':'mean','Trip_Count':'mean'}).reset_index()\n",
    "trip_avg_daily"
   ]
  },
  {
   "cell_type": "code",
   "execution_count": 24,
   "id": "450f9d93",
   "metadata": {},
   "outputs": [
    {
     "data": {
      "text/html": [
       "<div>\n",
       "<style scoped>\n",
       "    .dataframe tbody tr th:only-of-type {\n",
       "        vertical-align: middle;\n",
       "    }\n",
       "\n",
       "    .dataframe tbody tr th {\n",
       "        vertical-align: top;\n",
       "    }\n",
       "\n",
       "    .dataframe thead th {\n",
       "        text-align: right;\n",
       "    }\n",
       "</style>\n",
       "<table border=\"1\" class=\"dataframe\">\n",
       "  <thead>\n",
       "    <tr style=\"text-align: right;\">\n",
       "      <th></th>\n",
       "      <th>City</th>\n",
       "      <th>Car type</th>\n",
       "      <th>driver_earnings</th>\n",
       "      <th>Trip_Count</th>\n",
       "      <th>Active captains</th>\n",
       "      <th>avg_daily_earning_per_driver</th>\n",
       "    </tr>\n",
       "  </thead>\n",
       "  <tbody>\n",
       "    <tr>\n",
       "      <th>0</th>\n",
       "      <td>Dammam</td>\n",
       "      <td>Business</td>\n",
       "      <td>416.944286</td>\n",
       "      <td>4.714286</td>\n",
       "      <td>5</td>\n",
       "      <td>83.388857</td>\n",
       "    </tr>\n",
       "    <tr>\n",
       "      <th>1</th>\n",
       "      <td>Dammam</td>\n",
       "      <td>Economy</td>\n",
       "      <td>2867.227143</td>\n",
       "      <td>102.142857</td>\n",
       "      <td>20</td>\n",
       "      <td>143.361357</td>\n",
       "    </tr>\n",
       "    <tr>\n",
       "      <th>2</th>\n",
       "      <td>Dubai</td>\n",
       "      <td>Business</td>\n",
       "      <td>9261.940714</td>\n",
       "      <td>142.142857</td>\n",
       "      <td>30</td>\n",
       "      <td>308.731357</td>\n",
       "    </tr>\n",
       "    <tr>\n",
       "      <th>3</th>\n",
       "      <td>Dubai</td>\n",
       "      <td>Economy</td>\n",
       "      <td>6321.341429</td>\n",
       "      <td>128.142857</td>\n",
       "      <td>20</td>\n",
       "      <td>316.067071</td>\n",
       "    </tr>\n",
       "    <tr>\n",
       "      <th>4</th>\n",
       "      <td>Dubai</td>\n",
       "      <td>First</td>\n",
       "      <td>205.060000</td>\n",
       "      <td>1.000000</td>\n",
       "      <td>1</td>\n",
       "      <td>205.060000</td>\n",
       "    </tr>\n",
       "    <tr>\n",
       "      <th>5</th>\n",
       "      <td>Jeddah</td>\n",
       "      <td>Business</td>\n",
       "      <td>860.277143</td>\n",
       "      <td>14.571429</td>\n",
       "      <td>5</td>\n",
       "      <td>172.055429</td>\n",
       "    </tr>\n",
       "    <tr>\n",
       "      <th>6</th>\n",
       "      <td>Jeddah</td>\n",
       "      <td>Economy</td>\n",
       "      <td>7943.726429</td>\n",
       "      <td>253.785714</td>\n",
       "      <td>40</td>\n",
       "      <td>198.593161</td>\n",
       "    </tr>\n",
       "    <tr>\n",
       "      <th>7</th>\n",
       "      <td>Jeddah</td>\n",
       "      <td>First</td>\n",
       "      <td>138.765000</td>\n",
       "      <td>1.000000</td>\n",
       "      <td>1</td>\n",
       "      <td>138.765000</td>\n",
       "    </tr>\n",
       "    <tr>\n",
       "      <th>8</th>\n",
       "      <td>Jeddah</td>\n",
       "      <td>SUV</td>\n",
       "      <td>305.462308</td>\n",
       "      <td>5.230769</td>\n",
       "      <td>5</td>\n",
       "      <td>61.092462</td>\n",
       "    </tr>\n",
       "  </tbody>\n",
       "</table>\n",
       "</div>"
      ],
      "text/plain": [
       "     City  Car type  driver_earnings  Trip_Count  Active captains  \\\n",
       "0  Dammam  Business       416.944286    4.714286                5   \n",
       "1  Dammam   Economy      2867.227143  102.142857               20   \n",
       "2   Dubai  Business      9261.940714  142.142857               30   \n",
       "3   Dubai   Economy      6321.341429  128.142857               20   \n",
       "4   Dubai     First       205.060000    1.000000                1   \n",
       "5  Jeddah  Business       860.277143   14.571429                5   \n",
       "6  Jeddah   Economy      7943.726429  253.785714               40   \n",
       "7  Jeddah     First       138.765000    1.000000                1   \n",
       "8  Jeddah       SUV       305.462308    5.230769                5   \n",
       "\n",
       "   avg_daily_earning_per_driver  \n",
       "0                     83.388857  \n",
       "1                    143.361357  \n",
       "2                    308.731357  \n",
       "3                    316.067071  \n",
       "4                    205.060000  \n",
       "5                    172.055429  \n",
       "6                    198.593161  \n",
       "7                    138.765000  \n",
       "8                     61.092462  "
      ]
     },
     "execution_count": 24,
     "metadata": {},
     "output_type": "execute_result"
    }
   ],
   "source": [
    "trip_avg_daily=pd.merge(trip_avg_daily,Drivers, on =['City','Car type'])\n",
    "trip_avg_daily['avg_daily_earning_per_driver']=trip_avg_daily['driver_earnings']/trip_avg_daily['Active captains']\n",
    "trip_avg_daily"
   ]
  },
  {
   "cell_type": "code",
   "execution_count": 28,
   "id": "98cfe58a",
   "metadata": {},
   "outputs": [
    {
     "data": {
      "text/plain": [
       "6    198.593161\n",
       "Name: avg_daily_earning_per_driver, dtype: float64"
      ]
     },
     "execution_count": 28,
     "metadata": {},
     "output_type": "execute_result"
    }
   ],
   "source": [
    "trip_avg_daily[(trip_avg_daily.City==\"Jeddah\")&(trip_avg_daily[\"Car type\"]==\"Economy\")].avg_daily_earning_per_driver"
   ]
  },
  {
   "cell_type": "code",
   "execution_count": 29,
   "id": "dec5daf3",
   "metadata": {},
   "outputs": [
    {
     "data": {
      "text/plain": [
       "5    172.055429\n",
       "Name: avg_daily_earning_per_driver, dtype: float64"
      ]
     },
     "execution_count": 29,
     "metadata": {},
     "output_type": "execute_result"
    }
   ],
   "source": [
    "trip_avg_daily[(trip_avg_daily.City==\"Jeddah\")&(trip_avg_daily[\"Car type\"]==\"Business\")].avg_daily_earning_per_driver"
   ]
  },
  {
   "cell_type": "markdown",
   "id": "acd07473",
   "metadata": {},
   "source": [
    "### 10.\tHow much would GoCarzz lose if it rounds down (to nearest integer)?"
   ]
  },
  {
   "cell_type": "code",
   "execution_count": 30,
   "id": "8663aac6",
   "metadata": {},
   "outputs": [],
   "source": [
    "Trip_Data[\"GoCarzz_Earning_RounedDown\"]=Trip_Data[\"GoCarzz_Earning\"].astype(int)"
   ]
  },
  {
   "cell_type": "code",
   "execution_count": 31,
   "id": "ad2be348",
   "metadata": {},
   "outputs": [],
   "source": [
    "Trip_Data[\"Loss_DueTo_RoundDown\"]=Trip_Data[\"GoCarzz_Earning\"]-Trip_Data[\"GoCarzz_Earning_RounedDown\"]"
   ]
  },
  {
   "cell_type": "code",
   "execution_count": 32,
   "id": "dcb03fba",
   "metadata": {},
   "outputs": [
    {
     "data": {
      "text/plain": [
       "4491.09"
      ]
     },
     "execution_count": 32,
     "metadata": {},
     "output_type": "execute_result"
    }
   ],
   "source": [
    "Trip_Data[\"Loss_DueTo_RoundDown\"].sum()"
   ]
  },
  {
   "cell_type": "code",
   "execution_count": 36,
   "id": "b9b51c36",
   "metadata": {},
   "outputs": [],
   "source": [
    "Trip_Data_Filterd2 =Trip_Data[Trip_Data.Trip_Day<pd.to_datetime('2022-09-15', format =\"%Y-%m-%d\")]"
   ]
  },
  {
   "cell_type": "code",
   "execution_count": 38,
   "id": "8adbdd22",
   "metadata": {},
   "outputs": [
    {
     "data": {
      "text/plain": [
       "4468.63"
      ]
     },
     "execution_count": 38,
     "metadata": {},
     "output_type": "execute_result"
    }
   ],
   "source": [
    "Trip_Data_Filterd2[\"Loss_DueTo_RoundDown\"].sum()"
   ]
  },
  {
   "cell_type": "markdown",
   "id": "e4c93e7f",
   "metadata": {},
   "source": [
    "### 11.\tWhat is GoCarzz owed at the end of Sept 7, 2022? (Assume cash is collected every Sunday)"
   ]
  },
  {
   "cell_type": "code",
   "execution_count": 33,
   "id": "edd4cf5b",
   "metadata": {},
   "outputs": [
    {
     "name": "stderr",
     "output_type": "stream",
     "text": [
      "C:\\Users\\junai\\anaconda3\\lib\\site-packages\\pandas\\core\\ops\\array_ops.py:73: FutureWarning: Comparison of Timestamp with datetime.date is deprecated in order to match the standard library behavior.  In a future version these will be considered non-comparable.Use 'ts == pd.Timestamp(date)' or 'ts.date() == date' instead.\n",
      "  result = libops.scalar_compare(x.ravel(), y, op)\n"
     ]
    },
    {
     "data": {
      "text/plain": [
       "10267.83"
      ]
     },
     "execution_count": 33,
     "metadata": {},
     "output_type": "execute_result"
    }
   ],
   "source": [
    "Trip_Data[(Trip_Data[\"Trip_Day\"]>pd.to_datetime('04-09-2022', format = '%d-%m-%Y')) & (Trip_Data[\"Trip_Day\"]<=pd.to_datetime('07-09-2022', format = '%d-%m-%Y'))][\"GoCarzz_Earning\"].sum()"
   ]
  },
  {
   "cell_type": "code",
   "execution_count": 34,
   "id": "3559919f",
   "metadata": {},
   "outputs": [
    {
     "data": {
      "text/plain": [
       "13343.44"
      ]
     },
     "execution_count": 34,
     "metadata": {},
     "output_type": "execute_result"
    }
   ],
   "source": [
    "Trip_Data[(Trip_Data[\"Trip_Day\"]>=pd.to_datetime('04-09-2022', format = '%d-%m-%Y')) & (Trip_Data[\"Trip_Day\"]<=pd.to_datetime('07-09-2022', format = '%d-%m-%Y'))][\"GoCarzz_Earning\"].sum()"
   ]
  },
  {
   "cell_type": "code",
   "execution_count": null,
   "id": "9e618fab",
   "metadata": {},
   "outputs": [],
   "source": []
  }
 ],
 "metadata": {
  "kernelspec": {
   "display_name": "Python 3 (ipykernel)",
   "language": "python",
   "name": "python3"
  },
  "language_info": {
   "codemirror_mode": {
    "name": "ipython",
    "version": 3
   },
   "file_extension": ".py",
   "mimetype": "text/x-python",
   "name": "python",
   "nbconvert_exporter": "python",
   "pygments_lexer": "ipython3",
   "version": "3.9.7"
  }
 },
 "nbformat": 4,
 "nbformat_minor": 5
}
